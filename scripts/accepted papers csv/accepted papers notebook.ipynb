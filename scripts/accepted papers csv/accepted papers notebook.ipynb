{
 "cells": [
  {
   "cell_type": "code",
   "execution_count": 1,
   "metadata": {},
   "outputs": [],
   "source": [
    "import pandas as pd\n",
    "import numpy as np"
   ]
  },
  {
   "cell_type": "code",
   "execution_count": 2,
   "metadata": {
    "scrolled": true
   },
   "outputs": [],
   "source": [
    "all_papers = pd.read_csv('all_papers.csv')\n",
    "all_papers['title'] = all_papers['title'].astype(str)\n",
    "accepted_papers = pd.read_excel('accepted.xlsx',  header=None)"
   ]
  },
  {
   "cell_type": "code",
   "execution_count": 3,
   "metadata": {},
   "outputs": [],
   "source": [
    "accepted_papers.columns = ['paper_id', 'oral_pos', 'paper_type', 'track', 'title', 'abstract', 'authors' ]"
   ]
  },
  {
   "cell_type": "code",
   "execution_count": 4,
   "metadata": {},
   "outputs": [],
   "source": [
    "accepted_papers['paper_id'] = accepted_papers['paper_id'].astype(str)"
   ]
  },
  {
   "cell_type": "code",
   "execution_count": 5,
   "metadata": {},
   "outputs": [],
   "source": [
    "all_papers['paper_id'] = all_papers.pdf_url.str.split('.').str[-1]"
   ]
  },
  {
   "cell_type": "code",
   "execution_count": 8,
   "metadata": {
    "scrolled": true
   },
   "outputs": [],
   "source": [
    "accepted_papers['pdf_url'] = 'https://www.aclweb.org/anthology/2021.eacl-main.' + accepted_papers.paper_id"
   ]
  },
  {
   "cell_type": "code",
   "execution_count": 9,
   "metadata": {},
   "outputs": [],
   "source": [
    "accepted_papers = accepted_papers.drop(['paper_id', 'oral_pos'], axis = 1)"
   ]
  },
  {
   "cell_type": "code",
   "execution_count": 14,
   "metadata": {
    "scrolled": true
   },
   "outputs": [
    {
     "data": {
      "text/html": [
       "<div>\n",
       "<style scoped>\n",
       "    .dataframe tbody tr th:only-of-type {\n",
       "        vertical-align: middle;\n",
       "    }\n",
       "\n",
       "    .dataframe tbody tr th {\n",
       "        vertical-align: top;\n",
       "    }\n",
       "\n",
       "    .dataframe thead th {\n",
       "        text-align: right;\n",
       "    }\n",
       "</style>\n",
       "<table border=\"1\" class=\"dataframe\">\n",
       "  <thead>\n",
       "    <tr style=\"text-align: right;\">\n",
       "      <th></th>\n",
       "      <th>paper_type</th>\n",
       "      <th>track</th>\n",
       "      <th>title</th>\n",
       "      <th>abstract</th>\n",
       "      <th>authors</th>\n",
       "      <th>pdf_url</th>\n",
       "    </tr>\n",
       "  </thead>\n",
       "  <tbody>\n",
       "    <tr>\n",
       "      <td>0</td>\n",
       "      <td>Long Paper</td>\n",
       "      <td>Computational Social Science and Social Media</td>\n",
       "      <td>Implicitly Abusive Comparisons -- A New Datase...</td>\n",
       "      <td>We examine the task of detecting implicitly ab...</td>\n",
       "      <td>Michael Wiegand, Maja Geulig and Josef Ruppenh...</td>\n",
       "      <td>https://www.aclweb.org/anthology/2021.eacl-mai...</td>\n",
       "    </tr>\n",
       "    <tr>\n",
       "      <td>1</td>\n",
       "      <td>Long Paper</td>\n",
       "      <td>Computational Social Science and Social Media</td>\n",
       "      <td>Semantic Oppositeness Assisted Deep Contextual...</td>\n",
       "      <td>Social networks face a major challenge in the ...</td>\n",
       "      <td>Nisansa de Silva and Dejing Dou</td>\n",
       "      <td>https://www.aclweb.org/anthology/2021.eacl-mai...</td>\n",
       "    </tr>\n",
       "    <tr>\n",
       "      <td>2</td>\n",
       "      <td>Long Paper</td>\n",
       "      <td>Computational Social Science and Social Media</td>\n",
       "      <td>Hierarchical Multi-head Attentive Network for ...</td>\n",
       "      <td>The widespread of fake news and misinformation...</td>\n",
       "      <td>Nguyen Vo and Kyumin Lee</td>\n",
       "      <td>https://www.aclweb.org/anthology/2021.eacl-mai...</td>\n",
       "    </tr>\n",
       "    <tr>\n",
       "      <td>3</td>\n",
       "      <td>Long Paper</td>\n",
       "      <td>Computational Social Science and Social Media</td>\n",
       "      <td>An Expert Annotated Dataset for the Detection ...</td>\n",
       "      <td>Online misogyny is a pernicious social problem...</td>\n",
       "      <td>Ella Guest, Bertie Vidgen, Alexandros Mittos, ...</td>\n",
       "      <td>https://www.aclweb.org/anthology/2021.eacl-mai...</td>\n",
       "    </tr>\n",
       "    <tr>\n",
       "      <td>4</td>\n",
       "      <td>Long Paper</td>\n",
       "      <td>Computational Social Science and Social Media</td>\n",
       "      <td>Us vs. Them: A Dataset of Populist Attitudes, ...</td>\n",
       "      <td>Computational modelling of political discourse...</td>\n",
       "      <td>Pere-Lluís Huguet Cabot, David Abadi, Agneta F...</td>\n",
       "      <td>https://www.aclweb.org/anthology/2021.eacl-mai...</td>\n",
       "    </tr>\n",
       "    <tr>\n",
       "      <td>...</td>\n",
       "      <td>...</td>\n",
       "      <td>...</td>\n",
       "      <td>...</td>\n",
       "      <td>...</td>\n",
       "      <td>...</td>\n",
       "      <td>...</td>\n",
       "    </tr>\n",
       "    <tr>\n",
       "      <td>321</td>\n",
       "      <td>Long Paper</td>\n",
       "      <td>Syntax: Tagging, Chunking, and Parsing</td>\n",
       "      <td>Coordinate Constructions in English Enhanced U...</td>\n",
       "      <td>In this paper, we address the representation o...</td>\n",
       "      <td>Stefan Grünewald, Prisca Piccirilli and Annema...</td>\n",
       "      <td>https://www.aclweb.org/anthology/2021.eacl-mai...</td>\n",
       "    </tr>\n",
       "    <tr>\n",
       "      <td>322</td>\n",
       "      <td>Long Paper</td>\n",
       "      <td>Syntax: Tagging, Chunking, and Parsing</td>\n",
       "      <td>Dependency parsing with structure preserving e...</td>\n",
       "      <td>Modern neural approaches to dependency parsing...</td>\n",
       "      <td>Ákos Kádár, Lan Xiao, Mete Kemertas, Federico ...</td>\n",
       "      <td>https://www.aclweb.org/anthology/2021.eacl-mai...</td>\n",
       "    </tr>\n",
       "    <tr>\n",
       "      <td>323</td>\n",
       "      <td>Long Paper</td>\n",
       "      <td>Syntax: Tagging, Chunking, and Parsing</td>\n",
       "      <td>Calculating the optimal step of arc-eager pars...</td>\n",
       "      <td>It is shown that the optimal next step of an a...</td>\n",
       "      <td>Mark-Jan Nederhof</td>\n",
       "      <td>https://www.aclweb.org/anthology/2021.eacl-mai...</td>\n",
       "    </tr>\n",
       "    <tr>\n",
       "      <td>324</td>\n",
       "      <td>Long Paper</td>\n",
       "      <td>Syntax: Tagging, Chunking, and Parsing</td>\n",
       "      <td>PPT: Parsimonious Parser Transfer for Unsuperv...</td>\n",
       "      <td>Cross-lingual transfer is a leading technique ...</td>\n",
       "      <td>Kemal Kurniawan, Lea Frermann, Philip Schulz a...</td>\n",
       "      <td>https://www.aclweb.org/anthology/2021.eacl-mai...</td>\n",
       "    </tr>\n",
       "    <tr>\n",
       "      <td>325</td>\n",
       "      <td>Long Paper</td>\n",
       "      <td>Syntax: Tagging, Chunking, and Parsing</td>\n",
       "      <td>Reanalyzing the Most Probable Sentence Problem...</td>\n",
       "      <td>When working with problems in natural language...</td>\n",
       "      <td>Eric Corlett and Gerald Penn</td>\n",
       "      <td>https://www.aclweb.org/anthology/2021.eacl-mai...</td>\n",
       "    </tr>\n",
       "  </tbody>\n",
       "</table>\n",
       "<p>326 rows × 6 columns</p>\n",
       "</div>"
      ],
      "text/plain": [
       "     paper_type                                          track  \\\n",
       "0    Long Paper  Computational Social Science and Social Media   \n",
       "1    Long Paper  Computational Social Science and Social Media   \n",
       "2    Long Paper  Computational Social Science and Social Media   \n",
       "3    Long Paper  Computational Social Science and Social Media   \n",
       "4    Long Paper  Computational Social Science and Social Media   \n",
       "..          ...                                            ...   \n",
       "321  Long Paper         Syntax: Tagging, Chunking, and Parsing   \n",
       "322  Long Paper         Syntax: Tagging, Chunking, and Parsing   \n",
       "323  Long Paper         Syntax: Tagging, Chunking, and Parsing   \n",
       "324  Long Paper         Syntax: Tagging, Chunking, and Parsing   \n",
       "325  Long Paper         Syntax: Tagging, Chunking, and Parsing   \n",
       "\n",
       "                                                 title  \\\n",
       "0    Implicitly Abusive Comparisons -- A New Datase...   \n",
       "1    Semantic Oppositeness Assisted Deep Contextual...   \n",
       "2    Hierarchical Multi-head Attentive Network for ...   \n",
       "3    An Expert Annotated Dataset for the Detection ...   \n",
       "4    Us vs. Them: A Dataset of Populist Attitudes, ...   \n",
       "..                                                 ...   \n",
       "321  Coordinate Constructions in English Enhanced U...   \n",
       "322  Dependency parsing with structure preserving e...   \n",
       "323  Calculating the optimal step of arc-eager pars...   \n",
       "324  PPT: Parsimonious Parser Transfer for Unsuperv...   \n",
       "325  Reanalyzing the Most Probable Sentence Problem...   \n",
       "\n",
       "                                              abstract  \\\n",
       "0    We examine the task of detecting implicitly ab...   \n",
       "1    Social networks face a major challenge in the ...   \n",
       "2    The widespread of fake news and misinformation...   \n",
       "3    Online misogyny is a pernicious social problem...   \n",
       "4    Computational modelling of political discourse...   \n",
       "..                                                 ...   \n",
       "321  In this paper, we address the representation o...   \n",
       "322  Modern neural approaches to dependency parsing...   \n",
       "323  It is shown that the optimal next step of an a...   \n",
       "324  Cross-lingual transfer is a leading technique ...   \n",
       "325  When working with problems in natural language...   \n",
       "\n",
       "                                               authors  \\\n",
       "0    Michael Wiegand, Maja Geulig and Josef Ruppenh...   \n",
       "1                      Nisansa de Silva and Dejing Dou   \n",
       "2                             Nguyen Vo and Kyumin Lee   \n",
       "3    Ella Guest, Bertie Vidgen, Alexandros Mittos, ...   \n",
       "4    Pere-Lluís Huguet Cabot, David Abadi, Agneta F...   \n",
       "..                                                 ...   \n",
       "321  Stefan Grünewald, Prisca Piccirilli and Annema...   \n",
       "322  Ákos Kádár, Lan Xiao, Mete Kemertas, Federico ...   \n",
       "323                                  Mark-Jan Nederhof   \n",
       "324  Kemal Kurniawan, Lea Frermann, Philip Schulz a...   \n",
       "325                       Eric Corlett and Gerald Penn   \n",
       "\n",
       "                                               pdf_url  \n",
       "0    https://www.aclweb.org/anthology/2021.eacl-mai...  \n",
       "1    https://www.aclweb.org/anthology/2021.eacl-mai...  \n",
       "2    https://www.aclweb.org/anthology/2021.eacl-mai...  \n",
       "3    https://www.aclweb.org/anthology/2021.eacl-mai...  \n",
       "4    https://www.aclweb.org/anthology/2021.eacl-mai...  \n",
       "..                                                 ...  \n",
       "321  https://www.aclweb.org/anthology/2021.eacl-mai...  \n",
       "322  https://www.aclweb.org/anthology/2021.eacl-mai...  \n",
       "323  https://www.aclweb.org/anthology/2021.eacl-mai...  \n",
       "324  https://www.aclweb.org/anthology/2021.eacl-mai...  \n",
       "325  https://www.aclweb.org/anthology/2021.eacl-mai...  \n",
       "\n",
       "[326 rows x 6 columns]"
      ]
     },
     "execution_count": 14,
     "metadata": {},
     "output_type": "execute_result"
    }
   ],
   "source": [
    "accepted_papers"
   ]
  },
  {
   "cell_type": "code",
   "execution_count": 16,
   "metadata": {},
   "outputs": [],
   "source": [
    "accepted_papers.to_csv('2021_required_papers_csv')"
   ]
  },
  {
   "cell_type": "code",
   "execution_count": null,
   "metadata": {},
   "outputs": [],
   "source": []
  }
 ],
 "metadata": {
  "kernelspec": {
   "display_name": "Python 3",
   "language": "python",
   "name": "python3"
  },
  "language_info": {
   "codemirror_mode": {
    "name": "ipython",
    "version": 3
   },
   "file_extension": ".py",
   "mimetype": "text/x-python",
   "name": "python",
   "nbconvert_exporter": "python",
   "pygments_lexer": "ipython3",
   "version": "3.7.4"
  }
 },
 "nbformat": 4,
 "nbformat_minor": 2
}
